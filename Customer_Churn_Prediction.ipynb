{
 "cells": [
  {
   "cell_type": "code",
   "execution_count": 11,
   "id": "f8cdd01b-609b-4b86-89cf-190b7dfbbbf4",
   "metadata": {},
   "outputs": [
    {
     "name": "stdout",
     "output_type": "stream",
     "text": [
      "(1000, 16)\n"
     ]
    },
    {
     "data": {
      "text/html": [
       "<div>\n",
       "<style scoped>\n",
       "    .dataframe tbody tr th:only-of-type {\n",
       "        vertical-align: middle;\n",
       "    }\n",
       "\n",
       "    .dataframe tbody tr th {\n",
       "        vertical-align: top;\n",
       "    }\n",
       "\n",
       "    .dataframe thead th {\n",
       "        text-align: right;\n",
       "    }\n",
       "</style>\n",
       "<table border=\"1\" class=\"dataframe\">\n",
       "  <thead>\n",
       "    <tr style=\"text-align: right;\">\n",
       "      <th></th>\n",
       "      <th>customer_id</th>\n",
       "      <th>customer_name</th>\n",
       "      <th>industry</th>\n",
       "      <th>segment</th>\n",
       "      <th>country</th>\n",
       "      <th>city</th>\n",
       "      <th>region</th>\n",
       "      <th>subregion</th>\n",
       "      <th>recency_days</th>\n",
       "      <th>frequency</th>\n",
       "      <th>monetary</th>\n",
       "      <th>total_quantity</th>\n",
       "      <th>total_profit</th>\n",
       "      <th>total_discount</th>\n",
       "      <th>tenure_days</th>\n",
       "      <th>churn_flag</th>\n",
       "    </tr>\n",
       "  </thead>\n",
       "  <tbody>\n",
       "    <tr>\n",
       "      <th>0</th>\n",
       "      <td>1001</td>\n",
       "      <td>Abbott Laboratories</td>\n",
       "      <td>Healthcare</td>\n",
       "      <td>Enterprise</td>\n",
       "      <td>Australia</td>\n",
       "      <td>Sydney</td>\n",
       "      <td>APJ</td>\n",
       "      <td>ANZ</td>\n",
       "      <td>1564</td>\n",
       "      <td>1</td>\n",
       "      <td>213.12</td>\n",
       "      <td>5</td>\n",
       "      <td>-15.22</td>\n",
       "      <td>0.3</td>\n",
       "      <td>0</td>\n",
       "      <td>1</td>\n",
       "    </tr>\n",
       "    <tr>\n",
       "      <th>1</th>\n",
       "      <td>1001</td>\n",
       "      <td>Abbott Laboratories</td>\n",
       "      <td>Healthcare</td>\n",
       "      <td>Enterprise</td>\n",
       "      <td>Brazil</td>\n",
       "      <td>São Paulo</td>\n",
       "      <td>AMER</td>\n",
       "      <td>LATAM</td>\n",
       "      <td>1381</td>\n",
       "      <td>1</td>\n",
       "      <td>299.90</td>\n",
       "      <td>2</td>\n",
       "      <td>74.98</td>\n",
       "      <td>0.0</td>\n",
       "      <td>0</td>\n",
       "      <td>1</td>\n",
       "    </tr>\n",
       "    <tr>\n",
       "      <th>2</th>\n",
       "      <td>1001</td>\n",
       "      <td>Abbott Laboratories</td>\n",
       "      <td>Healthcare</td>\n",
       "      <td>Enterprise</td>\n",
       "      <td>Canada</td>\n",
       "      <td>Toronto</td>\n",
       "      <td>AMER</td>\n",
       "      <td>NAMER</td>\n",
       "      <td>873</td>\n",
       "      <td>1</td>\n",
       "      <td>425.06</td>\n",
       "      <td>20</td>\n",
       "      <td>24.32</td>\n",
       "      <td>0.2</td>\n",
       "      <td>0</td>\n",
       "      <td>1</td>\n",
       "    </tr>\n",
       "    <tr>\n",
       "      <th>3</th>\n",
       "      <td>1001</td>\n",
       "      <td>Abbott Laboratories</td>\n",
       "      <td>Healthcare</td>\n",
       "      <td>Enterprise</td>\n",
       "      <td>Chile</td>\n",
       "      <td>Santiago</td>\n",
       "      <td>AMER</td>\n",
       "      <td>LATAM</td>\n",
       "      <td>1553</td>\n",
       "      <td>1</td>\n",
       "      <td>191.97</td>\n",
       "      <td>7</td>\n",
       "      <td>16.80</td>\n",
       "      <td>0.2</td>\n",
       "      <td>0</td>\n",
       "      <td>1</td>\n",
       "    </tr>\n",
       "    <tr>\n",
       "      <th>4</th>\n",
       "      <td>1001</td>\n",
       "      <td>Abbott Laboratories</td>\n",
       "      <td>Healthcare</td>\n",
       "      <td>Enterprise</td>\n",
       "      <td>China</td>\n",
       "      <td>Shenzhen</td>\n",
       "      <td>APJ</td>\n",
       "      <td>APAC</td>\n",
       "      <td>676</td>\n",
       "      <td>1</td>\n",
       "      <td>19.98</td>\n",
       "      <td>1</td>\n",
       "      <td>8.59</td>\n",
       "      <td>0.0</td>\n",
       "      <td>0</td>\n",
       "      <td>1</td>\n",
       "    </tr>\n",
       "  </tbody>\n",
       "</table>\n",
       "</div>"
      ],
      "text/plain": [
       "   customer_id        customer_name    industry     segment    country  \\\n",
       "0         1001  Abbott Laboratories  Healthcare  Enterprise  Australia   \n",
       "1         1001  Abbott Laboratories  Healthcare  Enterprise     Brazil   \n",
       "2         1001  Abbott Laboratories  Healthcare  Enterprise     Canada   \n",
       "3         1001  Abbott Laboratories  Healthcare  Enterprise      Chile   \n",
       "4         1001  Abbott Laboratories  Healthcare  Enterprise      China   \n",
       "\n",
       "        city region subregion  recency_days  frequency  monetary  \\\n",
       "0     Sydney    APJ       ANZ          1564          1    213.12   \n",
       "1  São Paulo   AMER     LATAM          1381          1    299.90   \n",
       "2    Toronto   AMER     NAMER           873          1    425.06   \n",
       "3   Santiago   AMER     LATAM          1553          1    191.97   \n",
       "4   Shenzhen    APJ      APAC           676          1     19.98   \n",
       "\n",
       "   total_quantity  total_profit  total_discount  tenure_days  churn_flag  \n",
       "0               5        -15.22             0.3            0           1  \n",
       "1               2         74.98             0.0            0           1  \n",
       "2              20         24.32             0.2            0           1  \n",
       "3               7         16.80             0.2            0           1  \n",
       "4               1          8.59             0.0            0           1  "
      ]
     },
     "execution_count": 11,
     "metadata": {},
     "output_type": "execute_result"
    }
   ],
   "source": [
    "import pandas as pd\n",
    "\n",
    "# Load the customer summary dataset\n",
    "df = pd.read_csv(\"C:/ProgramData/MySQL/MySQL Server 8.0/Uploads/customer_summary.csv\")\n",
    "\n",
    "# Quick check\n",
    "print(df.shape)\n",
    "df.head()"
   ]
  },
  {
   "cell_type": "code",
   "execution_count": 13,
   "id": "1d05edaa-a0e7-49d3-8d52-4359dc8db802",
   "metadata": {},
   "outputs": [
    {
     "name": "stdout",
     "output_type": "stream",
     "text": [
      "count    1000.000000\n",
      "mean     1123.646000\n",
      "std       412.167112\n",
      "min       589.000000\n",
      "25%       743.000000\n",
      "50%      1035.000000\n",
      "75%      1443.500000\n",
      "max      2040.000000\n",
      "Name: recency_days, dtype: float64\n"
     ]
    }
   ],
   "source": [
    "# Let's check recency distribution\n",
    "print(df['recency_days'].describe())"
   ]
  },
  {
   "cell_type": "code",
   "execution_count": 15,
   "id": "306a22db-c37f-46d1-946c-56f8406501fa",
   "metadata": {},
   "outputs": [],
   "source": [
    "# Define churn based on median split\n",
    "threshold = df['recency_days'].median()\n",
    "df['churn_flag'] = df['recency_days'].apply(lambda x: 1 if x > threshold else 0)\n"
   ]
  },
  {
   "cell_type": "code",
   "execution_count": 17,
   "id": "a078d728-8987-4ea2-803d-dfd743301afe",
   "metadata": {},
   "outputs": [
    {
     "name": "stdout",
     "output_type": "stream",
     "text": [
      "Churn flag distribution:\n",
      " churn_flag\n",
      "0    501\n",
      "1    499\n",
      "Name: count, dtype: int64\n"
     ]
    }
   ],
   "source": [
    "# Check balance\n",
    "print(\"Churn flag distribution:\\n\", df['churn_flag'].value_counts())"
   ]
  },
  {
   "cell_type": "code",
   "execution_count": 19,
   "id": "7e810e67-5d7b-474c-9982-348a2ce3c2b3",
   "metadata": {},
   "outputs": [
    {
     "name": "stdout",
     "output_type": "stream",
     "text": [
      "Train distribution:\n",
      " churn_flag\n",
      "0    401\n",
      "1    399\n",
      "Name: count, dtype: int64\n",
      "Test distribution:\n",
      " churn_flag\n",
      "1    100\n",
      "0    100\n",
      "Name: count, dtype: int64\n"
     ]
    }
   ],
   "source": [
    "import pandas as pd\n",
    "from sklearn.model_selection import train_test_split\n",
    "\n",
    "# Features and target\n",
    "X = df.drop(columns=['customer_id', 'customer_name', 'churn_flag'])\n",
    "y = df['churn_flag']\n",
    "\n",
    "categorical_cols = ['industry', 'segment', 'country', 'city', 'region', 'subregion']\n",
    "categorical_cols = [c for c in categorical_cols if c in X.columns]\n",
    "numeric_cols = [c for c in X.columns if c not in categorical_cols]\n",
    "\n",
    "# Function to replace rare/unseen categories with 'Other'\n",
    "def replace_rare_categories(train, test, cols, threshold=0.01):\n",
    "    for col in cols:\n",
    "        counts = train[col].value_counts(normalize=True)\n",
    "        rare_categories = counts[counts < threshold].index\n",
    "        train[col] = train[col].replace(rare_categories, 'Other')\n",
    "        test[col] = test[col].apply(lambda x: x if x in train[col].values else 'Other')\n",
    "    return train, test\n",
    "\n",
    "# Train-test split\n",
    "X_train, X_test, y_train, y_test = train_test_split(\n",
    "    X, y, test_size=0.2, random_state=42, stratify=y\n",
    ")\n",
    "\n",
    "# Replace rare/unseen categories with 'Other'\n",
    "X_train, X_test = replace_rare_categories(X_train, X_test, categorical_cols)\n",
    "\n",
    "print(\"Train distribution:\\n\", y_train.value_counts())\n",
    "print(\"Test distribution:\\n\", y_test.value_counts())"
   ]
  },
  {
   "cell_type": "code",
   "execution_count": 21,
   "id": "41e809ec-61e8-4871-b0e3-ca869439042c",
   "metadata": {},
   "outputs": [
    {
     "name": "stdout",
     "output_type": "stream",
     "text": [
      "Random Forest trained successfully!\n"
     ]
    }
   ],
   "source": [
    "from sklearn.preprocessing import StandardScaler, OneHotEncoder\n",
    "from sklearn.compose import ColumnTransformer\n",
    "from sklearn.pipeline import Pipeline\n",
    "from sklearn.ensemble import RandomForestClassifier\n",
    "\n",
    "# Preprocessor\n",
    "preprocessor = ColumnTransformer(transformers=[\n",
    "    ('num', StandardScaler(), numeric_cols),\n",
    "    ('cat', OneHotEncoder(drop='first'), categorical_cols)  # no need for handle_unknown now\n",
    "])\n",
    "\n",
    "# Pipeline\n",
    "rf_pipeline = Pipeline(steps=[\n",
    "    ('preprocessor', preprocessor),\n",
    "    ('classifier', RandomForestClassifier(n_estimators=200, random_state=42, n_jobs=-1))\n",
    "])\n",
    "\n",
    "# Train the model\n",
    "rf_pipeline.fit(X_train, y_train)\n",
    "print(\"Random Forest trained successfully!\")\n"
   ]
  },
  {
   "cell_type": "code",
   "execution_count": 23,
   "id": "270e7d1a-3752-4ff7-b2a5-85506717cf2e",
   "metadata": {},
   "outputs": [
    {
     "name": "stdout",
     "output_type": "stream",
     "text": [
      "Classification Report:\n",
      "\n",
      "              precision    recall  f1-score   support\n",
      "\n",
      "           0       1.00      1.00      1.00       100\n",
      "           1       1.00      1.00      1.00       100\n",
      "\n",
      "    accuracy                           1.00       200\n",
      "   macro avg       1.00      1.00      1.00       200\n",
      "weighted avg       1.00      1.00      1.00       200\n",
      "\n"
     ]
    },
    {
     "data": {
      "image/png": "[encoded data removed]",
      "text/plain": [
       "<Figure size 600x400 with 1 Axes>"
      ]
     },
     "metadata": {},
     "output_type": "display_data"
    }
   ],
   "source": [
    "from sklearn.metrics import classification_report, confusion_matrix\n",
    "import matplotlib.pyplot as plt\n",
    "import seaborn as sns\n",
    "\n",
    "# Predict\n",
    "y_pred = rf_pipeline.predict(X_test)\n",
    "\n",
    "# Classification Report\n",
    "print(\"Classification Report:\\n\")\n",
    "print(classification_report(y_test, y_pred))\n",
    "\n",
    "# Confusion Matrix\n",
    "cm = confusion_matrix(y_test, y_pred, labels=[0,1])\n",
    "plt.figure(figsize=(6,4))\n",
    "sns.heatmap(\n",
    "    cm, annot=True, fmt=\"d\", cmap=\"mako\",\n",
    "    xticklabels=[\"Active\",\"Churned\"], yticklabels=[\"Active\",\"Churned\"],\n",
    "    cbar=False, linewidths=0.5, linecolor=\"gray\", annot_kws={\"size\":14}\n",
    ")\n",
    "plt.title(\"Confusion Matrix - Random Forest\", fontsize=14)\n",
    "plt.ylabel(\"True Label\")\n",
    "plt.xlabel(\"Predicted Label\")\n",
    "plt.show()\n"
   ]
  },
  {
   "cell_type": "code",
   "execution_count": 25,
   "id": "a04c868c-8b74-4e9c-af7e-0fb6ac24293b",
   "metadata": {},
   "outputs": [
    {
     "data": {
      "image/png": "[encoded data removed]",
      "text/plain": [
       "<Figure size 1000x600 with 1 Axes>"
      ]
     },
     "metadata": {},
     "output_type": "display_data"
    }
   ],
   "source": [
    "import numpy as np\n",
    "import matplotlib.pyplot as plt\n",
    "\n",
    "# Get feature names after preprocessing\n",
    "ohe = rf_pipeline.named_steps['preprocessor'].named_transformers_['cat']\n",
    "ohe_features = ohe.get_feature_names_out(categorical_cols)\n",
    "feature_names = np.concatenate([numeric_cols, ohe_features])\n",
    "\n",
    "# Get feature importances\n",
    "importances = rf_pipeline.named_steps['classifier'].feature_importances_\n",
    "\n",
    "# Sort features by importance\n",
    "indices = np.argsort(importances)[::-1]\n",
    "\n",
    "# Plot top 15 features\n",
    "plt.figure(figsize=(10,6))\n",
    "plt.title(\"Top 15 Feature Importances - Random Forest\", fontsize=14)\n",
    "plt.barh(range(15), importances[indices[:15]][::-1], color='teal')\n",
    "plt.yticks(range(15), [feature_names[i] for i in indices[:15]][::-1])\n",
    "plt.xlabel(\"Importance\")\n",
    "plt.show()\n"
   ]
  },
  {
   "cell_type": "code",
   "execution_count": 27,
   "id": "73f81edb-e557-429f-a190-1de7233352ef",
   "metadata": {},
   "outputs": [
    {
     "name": "stdout",
     "output_type": "stream",
     "text": [
      "Predictions saved for Power BI!\n"
     ]
    }
   ],
   "source": [
    "# Add predictions to X_test\n",
    "X_test_copy = X_test.copy()\n",
    "X_test_copy['actual_churn'] = y_test.values\n",
    "X_test_copy['predicted_churn'] = y_pred\n",
    "\n",
    "# Save to CSV for Power BI\n",
    "X_test_copy.to_csv(\"predicted_churn_profiles.csv\", index=False)\n",
    "print(\"Predictions saved for Power BI!\")\n"
   ]
  },
  {
   "cell_type": "code",
   "execution_count": 29,
   "id": "6278f0de-ca9c-4e02-aab8-fdeef24b6086",
   "metadata": {},
   "outputs": [],
   "source": [
    "# after model is trained\n",
    "probs = rf_pipeline.predict_proba(X_test)[:,1]   # probability of churn\n",
    "X_test_copy['predicted_proba'] = probs\n",
    "X_test_copy.to_csv('predicted_churn_profiles.csv', index=False)\n"
   ]
  },
  {
   "cell_type": "code",
   "execution_count": 31,
   "id": "6eb35d73-b17b-4ed7-a00b-62261245aad3",
   "metadata": {},
   "outputs": [
    {
     "name": "stdout",
     "output_type": "stream",
     "text": [
      "C:\\Users\\whynew.in\n"
     ]
    }
   ],
   "source": [
    "import os\n",
    "print(os.getcwd())\n"
   ]
  }
 ],
 "metadata": {
  "kernelspec": {
   "display_name": "Python 3 (ipykernel)",
   "language": "python",
   "name": "python3"
  },
  "language_info": {
   "codemirror_mode": {
    "name": "ipython",
    "version": 3
   },
   "file_extension": ".py",
   "mimetype": "text/x-python",
   "name": "python",
   "nbconvert_exporter": "python",
   "pygments_lexer": "ipython3",
   "version": "3.12.4"
  }
 },
 "nbformat": 4,
 "nbformat_minor": 5
}
